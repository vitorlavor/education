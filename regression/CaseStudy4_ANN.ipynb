{
 "cells": [
  {
   "cell_type": "markdown",
   "metadata": {
    "id": "vCeIdeCTaB9F"
   },
   "source": [
    "# ESCOLA POLITÉCNICA DA UNIVERSIDADE DE SÃO PAULO\n",
    "\n",
    "## PQI 3403 Análise de Processos da Indústria Química 2021\n",
    "\n",
    "### Case Study 4 - Regression - ANN"
   ]
  },
  {
   "cell_type": "code",
   "execution_count": 3,
   "metadata": {
    "_cell_guid": "b1076dfc-b9ad-4769-8c92-a6c4dae69d19",
    "_uuid": "8f2839f25d086af736a60e9eeb907d3b93b6e0e5",
    "id": "VqEXCeCdpfS7"
   },
   "outputs": [],
   "source": [
    "# Libraries\n",
    "\n",
    "from tensorflow.keras import backend\n",
    "from tensorflow.keras.models import Sequential\n",
    "from tensorflow.keras.layers import Dense\n",
    "from tensorflow.keras import models\n",
    "from sklearn.model_selection import train_test_split\n",
    "import numpy as np\n",
    "import matplotlib.pyplot as plt\n",
    "import time\n",
    "import random\n",
    "import pandas as pd"
   ]
  },
  {
   "cell_type": "markdown",
   "metadata": {
    "id": "bC0pCmTdpfT2"
   },
   "source": [
    "#### Questão 2"
   ]
  },
  {
   "cell_type": "code",
   "execution_count": 8,
   "metadata": {
    "_cell_guid": "79c7e3d0-c299-4dcb-8224-4455121ee9b0",
    "_uuid": "d629ff2d2480ee46fbb7e2d37f6b5fab8052498a",
    "colab": {
     "base_uri": "https://localhost:8080/",
     "height": 424
    },
    "id": "nkixP3aQpfS_",
    "outputId": "399cecef-c217-4e62-fcff-73b229a03fdd"
   },
   "outputs": [],
   "source": [
    "# Importing dataset\n",
    "\n",
    "url = 'https://raw.githubusercontent.com/vitorlavor/education/main/regression/Dados_moagem.csv'\n",
    "df = pd.read_csv(url, sep=',', header=0)\n",
    "df = df.rename(columns={'0': 'ore_feed', '1': 'water_crusher', '2': 'water_cyclone', '3': 'solid_stream', '4': 'pressre', '5': 'power', '6': 'solid_perc'})"
   ]
  },
  {
   "cell_type": "code",
   "execution_count": 9,
   "metadata": {},
   "outputs": [
    {
     "data": {
      "text/html": [
       "<div>\n",
       "<style scoped>\n",
       "    .dataframe tbody tr th:only-of-type {\n",
       "        vertical-align: middle;\n",
       "    }\n",
       "\n",
       "    .dataframe tbody tr th {\n",
       "        vertical-align: top;\n",
       "    }\n",
       "\n",
       "    .dataframe thead th {\n",
       "        text-align: right;\n",
       "    }\n",
       "</style>\n",
       "<table border=\"1\" class=\"dataframe\">\n",
       "  <thead>\n",
       "    <tr style=\"text-align: right;\">\n",
       "      <th></th>\n",
       "      <th>ore_feed</th>\n",
       "      <th>water_crusher</th>\n",
       "      <th>water_cyclone</th>\n",
       "      <th>solid_stream</th>\n",
       "      <th>pressre</th>\n",
       "      <th>power</th>\n",
       "      <th>solid_perc</th>\n",
       "    </tr>\n",
       "  </thead>\n",
       "  <tbody>\n",
       "    <tr>\n",
       "      <th>0</th>\n",
       "      <td>223.8123</td>\n",
       "      <td>19.1866</td>\n",
       "      <td>202.8234</td>\n",
       "      <td>62.5413</td>\n",
       "      <td>0.6130</td>\n",
       "      <td>3335.9206</td>\n",
       "      <td>0.79</td>\n",
       "    </tr>\n",
       "    <tr>\n",
       "      <th>1</th>\n",
       "      <td>225.1845</td>\n",
       "      <td>19.1866</td>\n",
       "      <td>202.7400</td>\n",
       "      <td>62.4349</td>\n",
       "      <td>0.6129</td>\n",
       "      <td>3339.7228</td>\n",
       "      <td>0.79</td>\n",
       "    </tr>\n",
       "    <tr>\n",
       "      <th>2</th>\n",
       "      <td>225.1857</td>\n",
       "      <td>19.1875</td>\n",
       "      <td>202.2735</td>\n",
       "      <td>72.5171</td>\n",
       "      <td>0.6154</td>\n",
       "      <td>3344.9427</td>\n",
       "      <td>0.79</td>\n",
       "    </tr>\n",
       "    <tr>\n",
       "      <th>3</th>\n",
       "      <td>225.1841</td>\n",
       "      <td>19.1877</td>\n",
       "      <td>202.5806</td>\n",
       "      <td>80.5878</td>\n",
       "      <td>0.6134</td>\n",
       "      <td>3344.1219</td>\n",
       "      <td>0.80</td>\n",
       "    </tr>\n",
       "    <tr>\n",
       "      <th>4</th>\n",
       "      <td>223.3293</td>\n",
       "      <td>18.3209</td>\n",
       "      <td>202.7433</td>\n",
       "      <td>72.5580</td>\n",
       "      <td>0.6069</td>\n",
       "      <td>3352.1254</td>\n",
       "      <td>0.80</td>\n",
       "    </tr>\n",
       "    <tr>\n",
       "      <th>5</th>\n",
       "      <td>217.0999</td>\n",
       "      <td>15.4144</td>\n",
       "      <td>202.7323</td>\n",
       "      <td>64.4346</td>\n",
       "      <td>0.5919</td>\n",
       "      <td>3350.0536</td>\n",
       "      <td>0.79</td>\n",
       "    </tr>\n",
       "    <tr>\n",
       "      <th>6</th>\n",
       "      <td>214.9137</td>\n",
       "      <td>14.3894</td>\n",
       "      <td>202.7315</td>\n",
       "      <td>62.7083</td>\n",
       "      <td>0.5868</td>\n",
       "      <td>3347.7955</td>\n",
       "      <td>0.78</td>\n",
       "    </tr>\n",
       "    <tr>\n",
       "      <th>7</th>\n",
       "      <td>214.9049</td>\n",
       "      <td>14.3892</td>\n",
       "      <td>200.8338</td>\n",
       "      <td>62.3459</td>\n",
       "      <td>0.5788</td>\n",
       "      <td>3340.3662</td>\n",
       "      <td>0.79</td>\n",
       "    </tr>\n",
       "    <tr>\n",
       "      <th>8</th>\n",
       "      <td>214.9093</td>\n",
       "      <td>14.3889</td>\n",
       "      <td>196.3894</td>\n",
       "      <td>63.1199</td>\n",
       "      <td>0.5685</td>\n",
       "      <td>3337.0743</td>\n",
       "      <td>0.78</td>\n",
       "    </tr>\n",
       "    <tr>\n",
       "      <th>9</th>\n",
       "      <td>214.9083</td>\n",
       "      <td>14.3890</td>\n",
       "      <td>200.3801</td>\n",
       "      <td>62.9212</td>\n",
       "      <td>0.5740</td>\n",
       "      <td>3335.8706</td>\n",
       "      <td>0.79</td>\n",
       "    </tr>\n",
       "  </tbody>\n",
       "</table>\n",
       "</div>"
      ],
      "text/plain": [
       "   ore_feed  water_crusher  water_cyclone  solid_stream  pressre      power   \n",
       "0  223.8123        19.1866       202.8234       62.5413   0.6130  3335.9206  \\\n",
       "1  225.1845        19.1866       202.7400       62.4349   0.6129  3339.7228   \n",
       "2  225.1857        19.1875       202.2735       72.5171   0.6154  3344.9427   \n",
       "3  225.1841        19.1877       202.5806       80.5878   0.6134  3344.1219   \n",
       "4  223.3293        18.3209       202.7433       72.5580   0.6069  3352.1254   \n",
       "5  217.0999        15.4144       202.7323       64.4346   0.5919  3350.0536   \n",
       "6  214.9137        14.3894       202.7315       62.7083   0.5868  3347.7955   \n",
       "7  214.9049        14.3892       200.8338       62.3459   0.5788  3340.3662   \n",
       "8  214.9093        14.3889       196.3894       63.1199   0.5685  3337.0743   \n",
       "9  214.9083        14.3890       200.3801       62.9212   0.5740  3335.8706   \n",
       "\n",
       "   solid_perc  \n",
       "0        0.79  \n",
       "1        0.79  \n",
       "2        0.79  \n",
       "3        0.80  \n",
       "4        0.80  \n",
       "5        0.79  \n",
       "6        0.78  \n",
       "7        0.79  \n",
       "8        0.78  \n",
       "9        0.79  "
      ]
     },
     "execution_count": 9,
     "metadata": {},
     "output_type": "execute_result"
    }
   ],
   "source": [
    "# Visualizing 10 first rows\n",
    "\n",
    "df.head(10)"
   ]
  },
  {
   "cell_type": "code",
   "execution_count": 10,
   "metadata": {
    "id": "vos8ooEKEX8t"
   },
   "outputs": [],
   "source": [
    "# Regression attribute (X) and target (y)\n",
    "\n",
    "X = df.drop(columns = ['solid_perc'])\n",
    "y = df['solid_perc']"
   ]
  },
  {
   "cell_type": "code",
   "execution_count": 11,
   "metadata": {
    "id": "eDzsJ6pADwPe"
   },
   "outputs": [],
   "source": [
    "## Train and test split \n",
    "\n",
    "X_train, X_test, y_train, y_test = train_test_split(X, y, test_size=.4, random_state=5)"
   ]
  },
  {
   "cell_type": "code",
   "execution_count": null,
   "metadata": {
    "id": "UZcnPDQiDxqK"
   },
   "outputs": [],
   "source": [
    "# Normalization\n",
    "\n",
    "mean = X_train.mean(axis=0)\n",
    "X_train -= mean\n",
    "std = X_train.std(axis=0)\n",
    "X_train /= std\n",
    "\n",
    "X_test -= mean\n",
    "X_test /= std"
   ]
  },
  {
   "cell_type": "code",
   "execution_count": 12,
   "metadata": {
    "id": "Fq_2TMUdDzlL"
   },
   "outputs": [
    {
     "name": "stdout",
     "output_type": "stream",
     "text": [
      "Metal device set to: Apple M1\n"
     ]
    }
   ],
   "source": [
    "# Model\n",
    "model = models.Sequential()\n",
    "      \n",
    "#Inputs and Hidden Layers\n",
    "model.add(Dense(64, activation='relu', input_shape=(X_train.shape[1],))) # Dim = 6\n",
    "model.add(Dense(64, activation = 'relu'))\n",
    "\n",
    "#Output\n",
    "model.add(Dense(1))\n",
    "\n",
    "#Compiling the model\n",
    "model.compile(loss = \"mean_squared_error\", optimizer = \"Adam\", metrics = ['mean_absolute_error'])"
   ]
  },
  {
   "cell_type": "code",
   "execution_count": 13,
   "metadata": {
    "colab": {
     "base_uri": "https://localhost:8080/"
    },
    "id": "S4Q2okKcE69i",
    "outputId": "3d65434e-b6bb-4b3a-e9db-2a783fb258dd"
   },
   "outputs": [
    {
     "name": "stdout",
     "output_type": "stream",
     "text": [
      "Processing...\n"
     ]
    },
    {
     "name": "stderr",
     "output_type": "stream",
     "text": [
      "2023-05-19 23:02:03.777473: W tensorflow/tsl/platform/profile_utils/cpu_utils.cc:128] Failed to get CPU frequency: 0 Hz\n"
     ]
    },
    {
     "name": "stdout",
     "output_type": "stream",
     "text": [
      "Time Elapsed: 126.22468614578247 s\n"
     ]
    }
   ],
   "source": [
    "#First fitting with 100 epochs\n",
    "num_epochs = 100\n",
    "\n",
    "#Keep track on the time required\n",
    "start = time.time()\n",
    "\n",
    "all_mae_histories = []\n",
    "all_scores = []\n",
    "\n",
    "print('Processing...')\n",
    "# Build the Keras model (already compiled)\n",
    "model_ok = model\n",
    "\n",
    "# Train the model (in silent mode, verbose=0)\n",
    "history = model.fit(X_train, y_train, validation_data=(X_test, y_test), epochs=num_epochs, batch_size=1, verbose=0)\n",
    "\n",
    "# Evaluate the model on the validation data\n",
    "\n",
    "mae_history = history.history['val_mean_absolute_error']\n",
    "all_mae_histories.append(mae_history)\n",
    "val_mse, val_mae = model.evaluate(X_train, y_train, verbose=0)\n",
    "all_scores.append(val_mae)\n",
    "\n",
    "end = time.time()\n",
    "print(\"Time Elapsed:\", end - start, \"s\")"
   ]
  },
  {
   "cell_type": "code",
   "execution_count": 14,
   "metadata": {
    "colab": {
     "base_uri": "https://localhost:8080/"
    },
    "id": "GuWc-kEyIjWj",
    "outputId": "f8b11965-440c-4c07-eb90-3697cc61f275"
   },
   "outputs": [
    {
     "name": "stdout",
     "output_type": "stream",
     "text": [
      "Mean Absolut Errors: \n",
      "Fold # [0.10819162428379059]\n"
     ]
    }
   ],
   "source": [
    "# MAE para o modelo final\n",
    "\n",
    "print(\"Mean Absolut Errors: \")\n",
    "print(\"Fold #\", all_scores)"
   ]
  },
  {
   "cell_type": "code",
   "execution_count": 15,
   "metadata": {
    "colab": {
     "base_uri": "https://localhost:8080/"
    },
    "id": "2wEw0IsVIuBC",
    "outputId": "2cef88b2-c688-4870-b1f5-0f21aacfa785"
   },
   "outputs": [
    {
     "name": "stdout",
     "output_type": "stream",
     "text": [
      "Model: \"sequential\"\n",
      "_________________________________________________________________\n",
      " Layer (type)                Output Shape              Param #   \n",
      "=================================================================\n",
      " dense (Dense)               (None, 64)                448       \n",
      "                                                                 \n",
      " dense_1 (Dense)             (None, 64)                4160      \n",
      "                                                                 \n",
      " dense_2 (Dense)             (None, 1)                 65        \n",
      "                                                                 \n",
      "=================================================================\n",
      "Total params: 4,673\n",
      "Trainable params: 4,673\n",
      "Non-trainable params: 0\n",
      "_________________________________________________________________\n"
     ]
    }
   ],
   "source": [
    "# Descrição do Modelo\n",
    "\n",
    "model.summary()"
   ]
  },
  {
   "cell_type": "code",
   "execution_count": 16,
   "metadata": {
    "colab": {
     "base_uri": "https://localhost:8080/",
     "height": 279
    },
    "id": "dRDr3Bp2I2dM",
    "outputId": "f07e9e6f-3588-4af7-9b5d-1b565f854b68"
   },
   "outputs": [
    {
     "data": {
      "image/png": "[encoded data removed]",
      "text/plain": [
       "<Figure size 1600x1000 with 1 Axes>"
      ]
     },
     "metadata": {},
     "output_type": "display_data"
    }
   ],
   "source": [
    "#Plotting the average mean absolute error\n",
    "average_mae_history = [np.mean([x[i] for x in all_mae_histories]) for i in range(num_epochs)]\n",
    "\n",
    "plt.figure(figsize=(16,10))\n",
    "plt.plot(range(1, len(average_mae_history) + 1), average_mae_history)\n",
    "plt.xlabel('Epochs', fontsize=14)\n",
    "plt.ylabel('MAE', fontsize=14)\n",
    "plt.xticks(fontsize=12)\n",
    "plt.yticks(fontsize=12)\n",
    "plt.show()"
   ]
  },
  {
   "cell_type": "code",
   "execution_count": 17,
   "metadata": {
    "id": "nXTrld15KGzy"
   },
   "outputs": [],
   "source": [
    "def normaliza(x_new):\n",
    "    x_new[0][0] -= 221.3929\n",
    "    x_new[0][1] -= 16.9675\n",
    "    x_new[0][2] -= 193.2343\n",
    "    x_new[0][3] -= 63.488\n",
    "    x_new[0][4] -= 0.4840\n",
    "    x_new[0][5] -= 3192.9\n",
    "\n",
    "    x_new[0][0] /= 12.19024\n",
    "    x_new[0][1] /= 2.048039\n",
    "    x_new[0][2] /= 14.6197\n",
    "    x_new[0][3] /= 3.098351\n",
    "    x_new[0][4] /= 0.07179886\n",
    "    x_new[0][5] /= 146.282\n",
    "    \n",
    "    return x_new"
   ]
  },
  {
   "cell_type": "code",
   "execution_count": 21,
   "metadata": {
    "colab": {
     "base_uri": "https://localhost:8080/"
    },
    "id": "Kw5__7U_GUfY",
    "outputId": "02e409e4-1588-4db3-b88f-5b4b3f43f031"
   },
   "outputs": [
    {
     "name": "stdout",
     "output_type": "stream",
     "text": [
      "1/1 [==============================] - 0s 25ms/step\n",
      "X=[0.70606485 1.48068469 0.46277967 0.48800152 0.91923465 0.7321475 ]\n",
      "Y=[0.33530447] \n",
      "\n",
      "1/1 [==============================] - 0s 10ms/step\n",
      "X=[ 0.77126455  1.02795894  0.4331621  -0.48293431 -0.12535018 -0.65812062]\n",
      "Y=[0.3478333] \n",
      "\n",
      "1/1 [==============================] - 0s 9ms/step\n",
      "X=[-0.10699543 -0.78934044 -0.82024255  0.42322513 -1.01115812 -0.81096717]\n",
      "Y=[0.5178914] \n",
      "\n",
      "1/1 [==============================] - 0s 9ms/step\n",
      "X=[-17.36179928  -8.15511814 -13.20330787  -0.3459905   -6.6449523\n",
      "  -4.68714879]\n",
      "Y=[6.124537] \n",
      "\n"
     ]
    }
   ],
   "source": [
    "# Predictions\n",
    "\n",
    "#Making predictions\n",
    "#[Cyc Water, Mill Water , Mill Feed , PSI  , Cyc Pressure , Mill Power] -> % Solids\n",
    "\n",
    "x_test = []\n",
    "y_test = []\n",
    "\n",
    "x_test.append(np.array([[230, 20, 200, 65, 0.55, 3300]]))\n",
    "x_test.append(np.array([[230.7948,19.0728,199.5670,61.9917,0.4750,3096.6288]]))\n",
    "x_test.append(np.array([[220.0886,15.3509,181.2426,64.7993,0.4114,3074.2701]]))\n",
    "x_test.append(np.array([[9.7484,0.2655,0.2059,62.4160,0.0069,2507.2545]]))\n",
    "\n",
    "for i in range(0,4):\n",
    "    \n",
    "    y_test.append(model.predict(normaliza(x_test[i])))\n",
    "    print(\"X=%s\\nY=%s \\n\" % (x_test[i][0], y_test[i][0]))"
   ]
  },
  {
   "cell_type": "code",
   "execution_count": null,
   "metadata": {},
   "outputs": [],
   "source": []
  }
 ],
 "metadata": {
  "colab": {
   "provenance": []
  },
  "kernelspec": {
   "display_name": "Python 3 (ipykernel)",
   "language": "python",
   "name": "python3"
  },
  "language_info": {
   "codemirror_mode": {
    "name": "ipython",
    "version": 3
   },
   "file_extension": ".py",
   "mimetype": "text/x-python",
   "name": "python",
   "nbconvert_exporter": "python",
   "pygments_lexer": "ipython3",
   "version": "3.10.10"
  }
 },
 "nbformat": 4,
 "nbformat_minor": 1
}
